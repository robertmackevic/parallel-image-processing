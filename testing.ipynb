{
 "cells": [
  {
   "cell_type": "code",
   "execution_count": null,
   "id": "initial_id",
   "metadata": {
    "collapsed": true
   },
   "outputs": [],
   "source": [
    "from src.paths import TEST_IMAGE_FILEPATH, DATASET_DIR\n",
    "from src.processing import (\n",
    "    process_images_sequential,\n",
    "    process_images_parallel_1,\n",
    "    process_images_parallel_2\n",
    ")\n",
    "from src.transformations import (\n",
    "    convert_to_bw,\n",
    "    apply_blur,\n",
    "    apply_noise_mask,\n",
    "    create_noise_mask_from_bw_image\n",
    ")\n",
    "from src.utils import (\n",
    "    load_grayscale_image,\n",
    "    show_image,\n",
    "    download_dataset_from_dropbox\n",
    ")"
   ]
  },
  {
   "cell_type": "code",
   "outputs": [],
   "source": [
    "download_dataset_from_dropbox(\n",
    "    url=r\"https://www.dropbox.com/s/1eb7fx9bqr85cfo/data_set_VU_test1.zip?raw=1\")"
   ],
   "metadata": {
    "collapsed": false
   },
   "id": "40ecc5e7bcf594ec",
   "execution_count": null
  },
  {
   "cell_type": "code",
   "outputs": [],
   "source": [
    "image = load_grayscale_image(TEST_IMAGE_FILEPATH)\n",
    "show_image(image)"
   ],
   "metadata": {
    "collapsed": false
   },
   "id": "4d730e7f3234ceae",
   "execution_count": null
  },
  {
   "cell_type": "code",
   "outputs": [],
   "source": [
    "bw_image = convert_to_bw(image)\n",
    "show_image(bw_image)"
   ],
   "metadata": {
    "collapsed": false
   },
   "id": "f70720acb0d5ca80",
   "execution_count": null
  },
  {
   "cell_type": "code",
   "outputs": [],
   "source": [
    "blurred_image = apply_blur(bw_image)\n",
    "show_image(blurred_image)"
   ],
   "metadata": {
    "collapsed": false
   },
   "id": "2b661cb06784f55a",
   "execution_count": null
  },
  {
   "cell_type": "code",
   "outputs": [],
   "source": [
    "image_with_noise = apply_noise_mask(\n",
    "    blurred_image,\n",
    "    noise_mask=create_noise_mask_from_bw_image(bw_image, noise_fraction=0.1)\n",
    ")\n",
    "show_image(image_with_noise)"
   ],
   "metadata": {
    "collapsed": false
   },
   "id": "c68c22af52785306",
   "execution_count": null
  },
  {
   "cell_type": "code",
   "outputs": [],
   "source": [
    "process_images_sequential(DATASET_DIR)"
   ],
   "metadata": {
    "collapsed": false
   },
   "id": "f885f1d26229e8b0",
   "execution_count": null
  },
  {
   "cell_type": "code",
   "outputs": [],
   "source": [
    "process_images_parallel_1(DATASET_DIR)"
   ],
   "metadata": {
    "collapsed": false
   },
   "id": "ad3b49e03a2a868b",
   "execution_count": null
  },
  {
   "cell_type": "code",
   "outputs": [],
   "source": [
    "process_images_parallel_2(DATASET_DIR)"
   ],
   "metadata": {
    "collapsed": false
   },
   "id": "1b053898a767a965",
   "execution_count": null
  }
 ],
 "metadata": {
  "kernelspec": {
   "display_name": "Python 3",
   "language": "python",
   "name": "python3"
  },
  "language_info": {
   "codemirror_mode": {
    "name": "ipython",
    "version": 2
   },
   "file_extension": ".py",
   "mimetype": "text/x-python",
   "name": "python",
   "nbconvert_exporter": "python",
   "pygments_lexer": "ipython2",
   "version": "2.7.6"
  }
 },
 "nbformat": 4,
 "nbformat_minor": 5
}

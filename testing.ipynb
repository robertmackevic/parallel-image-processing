{
 "cells": [
  {
   "cell_type": "code",
   "execution_count": null,
   "id": "initial_id",
   "metadata": {
    "collapsed": true
   },
   "outputs": [],
   "source": [
    "from concurrent.futures import ProcessPoolExecutor, ThreadPoolExecutor\n",
    "from multiprocessing import Process\n",
    "from threading import Thread\n",
    "\n",
    "from src.paths import TEST_IMAGE_FILEPATH\n",
    "from src.processing import (\n",
    "    process_images_sequential,\n",
    "    process_images_parallel_pooled,\n",
    "    process_images_parallel_conveyor,\n",
    "    process_images_parallel_no_load_balancing\n",
    ")\n",
    "from src.transformations import (\n",
    "    convert_to_bw,\n",
    "    apply_blur,\n",
    "    apply_noise\n",
    ")\n",
    "from src.utils import (\n",
    "    load_image,\n",
    "    show_image,\n",
    "    download_dataset_from_dropbox\n",
    ")"
   ]
  },
  {
   "cell_type": "code",
   "outputs": [],
   "source": [
    "download_dataset_from_dropbox(\n",
    "    url=r\"https://www.dropbox.com/s/1eb7fx9bqr85cfo/data_set_VU_test1.zip?raw=1\")"
   ],
   "metadata": {
    "collapsed": false
   },
   "id": "40ecc5e7bcf594ec",
   "execution_count": null
  },
  {
   "cell_type": "code",
   "outputs": [],
   "source": [
    "image = load_image(TEST_IMAGE_FILEPATH)\n",
    "show_image(image)"
   ],
   "metadata": {
    "collapsed": false
   },
   "id": "4d730e7f3234ceae",
   "execution_count": null
  },
  {
   "cell_type": "code",
   "outputs": [],
   "source": [
    "bw_image = convert_to_bw(image)\n",
    "show_image(bw_image)"
   ],
   "metadata": {
    "collapsed": false
   },
   "id": "f70720acb0d5ca80",
   "execution_count": null
  },
  {
   "cell_type": "code",
   "outputs": [],
   "source": [
    "blurred_image = apply_blur(image, kernel_size=11)\n",
    "show_image(blurred_image)"
   ],
   "metadata": {
    "collapsed": false
   },
   "id": "2b661cb06784f55a",
   "execution_count": null
  },
  {
   "cell_type": "code",
   "outputs": [],
   "source": [
    "image_with_noise = apply_noise(image, noise_fraction=0.1)\n",
    "show_image(image_with_noise)"
   ],
   "metadata": {
    "collapsed": false
   },
   "id": "c68c22af52785306",
   "execution_count": null
  },
  {
   "cell_type": "code",
   "outputs": [],
   "source": [
    "process_images_sequential(transform=convert_to_bw)\n",
    "process_images_sequential(transform=apply_blur)\n",
    "process_images_sequential(transform=apply_noise)"
   ],
   "metadata": {
    "collapsed": false
   },
   "id": "f885f1d26229e8b0",
   "execution_count": null
  },
  {
   "cell_type": "code",
   "outputs": [],
   "source": [
    "process_images_parallel_pooled(transform=convert_to_bw, pool_executor=ThreadPoolExecutor)\n",
    "process_images_parallel_pooled(transform=apply_blur, pool_executor=ThreadPoolExecutor)\n",
    "process_images_parallel_pooled(transform=apply_noise, pool_executor=ThreadPoolExecutor)"
   ],
   "metadata": {
    "collapsed": false
   },
   "id": "109286a1ca80c67d",
   "execution_count": null
  },
  {
   "cell_type": "code",
   "outputs": [],
   "source": [
    "process_images_parallel_pooled(transform=convert_to_bw, pool_executor=ProcessPoolExecutor)\n",
    "process_images_parallel_pooled(transform=apply_blur, pool_executor=ProcessPoolExecutor)\n",
    "process_images_parallel_pooled(transform=apply_noise, pool_executor=ProcessPoolExecutor)"
   ],
   "metadata": {
    "collapsed": false
   },
   "id": "352c35965dabbcbf",
   "execution_count": null
  },
  {
   "cell_type": "code",
   "outputs": [],
   "source": [
    "process_images_parallel_conveyor(transform=convert_to_bw)\n",
    "process_images_parallel_conveyor(transform=apply_blur)\n",
    "process_images_parallel_conveyor(transform=apply_noise)"
   ],
   "metadata": {
    "collapsed": false
   },
   "id": "1462c3b7c9cee69a",
   "execution_count": null
  },
  {
   "cell_type": "code",
   "outputs": [],
   "source": [
    "process_images_parallel_no_load_balancing(transform=convert_to_bw, executor=Thread)\n",
    "process_images_parallel_no_load_balancing(transform=apply_blur, executor=Thread)\n",
    "process_images_parallel_no_load_balancing(transform=apply_noise, executor=Thread)"
   ],
   "metadata": {
    "collapsed": false
   },
   "id": "399320ef7780ee0e",
   "execution_count": null
  },
  {
   "cell_type": "code",
   "outputs": [],
   "source": [
    "process_images_parallel_no_load_balancing(transform=convert_to_bw, executor=Process)\n",
    "process_images_parallel_no_load_balancing(transform=apply_blur, executor=Process)\n",
    "process_images_parallel_no_load_balancing(transform=apply_noise, executor=Process)"
   ],
   "metadata": {
    "collapsed": false
   },
   "id": "2a96287420c7256a",
   "execution_count": null
  }
 ],
 "metadata": {
  "kernelspec": {
   "display_name": "Python 3",
   "language": "python",
   "name": "python3"
  },
  "language_info": {
   "codemirror_mode": {
    "name": "ipython",
    "version": 2
   },
   "file_extension": ".py",
   "mimetype": "text/x-python",
   "name": "python",
   "nbconvert_exporter": "python",
   "pygments_lexer": "ipython2",
   "version": "2.7.6"
  }
 },
 "nbformat": 4,
 "nbformat_minor": 5
}

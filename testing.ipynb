{
 "cells": [
  {
   "cell_type": "code",
   "execution_count": null,
   "id": "initial_id",
   "metadata": {
    "collapsed": true
   },
   "outputs": [],
   "source": [
    "from pathlib import Path\n",
    "\n",
    "from src.processing import process_images_sequential\n",
    "from src.transformations import (\n",
    "    convert_to_bw,\n",
    "    apply_blur,\n",
    "    apply_noise_mask,\n",
    "    create_noise_mask_from_bw_image\n",
    ")\n",
    "from src.utils import load_grayscale_image, show_image"
   ]
  },
  {
   "cell_type": "code",
   "outputs": [],
   "source": [
    "filepath = Path(r\"test_image.jpg\")\n",
    "image = load_grayscale_image(filepath)\n",
    "show_image(image)"
   ],
   "metadata": {
    "collapsed": false
   },
   "id": "4d730e7f3234ceae",
   "execution_count": null
  },
  {
   "cell_type": "code",
   "outputs": [],
   "source": [
    "bw_image = convert_to_bw(image)\n",
    "show_image(bw_image)"
   ],
   "metadata": {
    "collapsed": false
   },
   "id": "f70720acb0d5ca80",
   "execution_count": null
  },
  {
   "cell_type": "code",
   "outputs": [],
   "source": [
    "blurred_image = apply_blur(bw_image)\n",
    "show_image(blurred_image)"
   ],
   "metadata": {
    "collapsed": false
   },
   "id": "2b661cb06784f55a",
   "execution_count": null
  },
  {
   "cell_type": "code",
   "outputs": [],
   "source": [
    "image_with_noise = apply_noise_mask(\n",
    "    blurred_image,\n",
    "    noise_mask=create_noise_mask_from_bw_image(bw_image, noise_fraction=0.1)\n",
    ")\n",
    "show_image(image_with_noise)"
   ],
   "metadata": {
    "collapsed": false
   },
   "id": "c68c22af52785306",
   "execution_count": null
  },
  {
   "cell_type": "code",
   "outputs": [],
   "source": [
    "DATASET_DIR = Path(r\"C:\\Users\\robert\\Downloads\\data_set_VU_test1\\Images\")\n",
    "process_images_sequential(DATASET_DIR)"
   ],
   "metadata": {
    "collapsed": false
   },
   "id": "f885f1d26229e8b0",
   "execution_count": null
  }
 ],
 "metadata": {
  "kernelspec": {
   "display_name": "Python 3",
   "language": "python",
   "name": "python3"
  },
  "language_info": {
   "codemirror_mode": {
    "name": "ipython",
    "version": 2
   },
   "file_extension": ".py",
   "mimetype": "text/x-python",
   "name": "python",
   "nbconvert_exporter": "python",
   "pygments_lexer": "ipython2",
   "version": "2.7.6"
  }
 },
 "nbformat": 4,
 "nbformat_minor": 5
}
